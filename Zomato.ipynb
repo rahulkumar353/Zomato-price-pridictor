{
 "cells": [
  {
   "cell_type": "code",
   "execution_count": 97,
   "metadata": {},
   "outputs": [],
   "source": [
    "import pandas as pd\n",
    "import numpy as np"
   ]
  },
  {
   "cell_type": "code",
   "execution_count": 98,
   "metadata": {},
   "outputs": [
    {
     "data": {
      "text/html": [
       "<div>\n",
       "<style scoped>\n",
       "    .dataframe tbody tr th:only-of-type {\n",
       "        vertical-align: middle;\n",
       "    }\n",
       "\n",
       "    .dataframe tbody tr th {\n",
       "        vertical-align: top;\n",
       "    }\n",
       "\n",
       "    .dataframe thead th {\n",
       "        text-align: right;\n",
       "    }\n",
       "</style>\n",
       "<table border=\"1\" class=\"dataframe\">\n",
       "  <thead>\n",
       "    <tr style=\"text-align: right;\">\n",
       "      <th></th>\n",
       "      <th>Restaurant ID</th>\n",
       "      <th>Restaurant Name</th>\n",
       "      <th>Country Code</th>\n",
       "      <th>City</th>\n",
       "      <th>Address</th>\n",
       "      <th>Locality</th>\n",
       "      <th>Locality Verbose</th>\n",
       "      <th>Longitude</th>\n",
       "      <th>Latitude</th>\n",
       "      <th>Cuisines</th>\n",
       "      <th>...</th>\n",
       "      <th>Currency</th>\n",
       "      <th>Has Table booking</th>\n",
       "      <th>Has Online delivery</th>\n",
       "      <th>Is delivering now</th>\n",
       "      <th>Switch to order menu</th>\n",
       "      <th>Price range</th>\n",
       "      <th>Aggregate rating</th>\n",
       "      <th>Rating color</th>\n",
       "      <th>Rating text</th>\n",
       "      <th>Votes</th>\n",
       "    </tr>\n",
       "  </thead>\n",
       "  <tbody>\n",
       "    <tr>\n",
       "      <th>0</th>\n",
       "      <td>6317637</td>\n",
       "      <td>Le Petit Souffle</td>\n",
       "      <td>162</td>\n",
       "      <td>Makati City</td>\n",
       "      <td>Third Floor, Century City Mall, Kalayaan Avenu...</td>\n",
       "      <td>Century City Mall, Poblacion, Makati City</td>\n",
       "      <td>Century City Mall, Poblacion, Makati City, Mak...</td>\n",
       "      <td>121.027535</td>\n",
       "      <td>14.565443</td>\n",
       "      <td>French, Japanese, Desserts</td>\n",
       "      <td>...</td>\n",
       "      <td>Botswana Pula(P)</td>\n",
       "      <td>Yes</td>\n",
       "      <td>No</td>\n",
       "      <td>No</td>\n",
       "      <td>No</td>\n",
       "      <td>3</td>\n",
       "      <td>4.8</td>\n",
       "      <td>Dark Green</td>\n",
       "      <td>Excellent</td>\n",
       "      <td>314</td>\n",
       "    </tr>\n",
       "    <tr>\n",
       "      <th>1</th>\n",
       "      <td>6304287</td>\n",
       "      <td>Izakaya Kikufuji</td>\n",
       "      <td>162</td>\n",
       "      <td>Makati City</td>\n",
       "      <td>Little Tokyo, 2277 Chino Roces Avenue, Legaspi...</td>\n",
       "      <td>Little Tokyo, Legaspi Village, Makati City</td>\n",
       "      <td>Little Tokyo, Legaspi Village, Makati City, Ma...</td>\n",
       "      <td>121.014101</td>\n",
       "      <td>14.553708</td>\n",
       "      <td>Japanese</td>\n",
       "      <td>...</td>\n",
       "      <td>Botswana Pula(P)</td>\n",
       "      <td>Yes</td>\n",
       "      <td>No</td>\n",
       "      <td>No</td>\n",
       "      <td>No</td>\n",
       "      <td>3</td>\n",
       "      <td>4.5</td>\n",
       "      <td>Dark Green</td>\n",
       "      <td>Excellent</td>\n",
       "      <td>591</td>\n",
       "    </tr>\n",
       "    <tr>\n",
       "      <th>2</th>\n",
       "      <td>6300002</td>\n",
       "      <td>Heat - Edsa Shangri-La</td>\n",
       "      <td>162</td>\n",
       "      <td>Mandaluyong City</td>\n",
       "      <td>Edsa Shangri-La, 1 Garden Way, Ortigas, Mandal...</td>\n",
       "      <td>Edsa Shangri-La, Ortigas, Mandaluyong City</td>\n",
       "      <td>Edsa Shangri-La, Ortigas, Mandaluyong City, Ma...</td>\n",
       "      <td>121.056831</td>\n",
       "      <td>14.581404</td>\n",
       "      <td>Seafood, Asian, Filipino, Indian</td>\n",
       "      <td>...</td>\n",
       "      <td>Botswana Pula(P)</td>\n",
       "      <td>Yes</td>\n",
       "      <td>No</td>\n",
       "      <td>No</td>\n",
       "      <td>No</td>\n",
       "      <td>4</td>\n",
       "      <td>4.4</td>\n",
       "      <td>Green</td>\n",
       "      <td>Very Good</td>\n",
       "      <td>270</td>\n",
       "    </tr>\n",
       "    <tr>\n",
       "      <th>3</th>\n",
       "      <td>6318506</td>\n",
       "      <td>Ooma</td>\n",
       "      <td>162</td>\n",
       "      <td>Mandaluyong City</td>\n",
       "      <td>Third Floor, Mega Fashion Hall, SM Megamall, O...</td>\n",
       "      <td>SM Megamall, Ortigas, Mandaluyong City</td>\n",
       "      <td>SM Megamall, Ortigas, Mandaluyong City, Mandal...</td>\n",
       "      <td>121.056475</td>\n",
       "      <td>14.585318</td>\n",
       "      <td>Japanese, Sushi</td>\n",
       "      <td>...</td>\n",
       "      <td>Botswana Pula(P)</td>\n",
       "      <td>No</td>\n",
       "      <td>No</td>\n",
       "      <td>No</td>\n",
       "      <td>No</td>\n",
       "      <td>4</td>\n",
       "      <td>4.9</td>\n",
       "      <td>Dark Green</td>\n",
       "      <td>Excellent</td>\n",
       "      <td>365</td>\n",
       "    </tr>\n",
       "    <tr>\n",
       "      <th>4</th>\n",
       "      <td>6314302</td>\n",
       "      <td>Sambo Kojin</td>\n",
       "      <td>162</td>\n",
       "      <td>Mandaluyong City</td>\n",
       "      <td>Third Floor, Mega Atrium, SM Megamall, Ortigas...</td>\n",
       "      <td>SM Megamall, Ortigas, Mandaluyong City</td>\n",
       "      <td>SM Megamall, Ortigas, Mandaluyong City, Mandal...</td>\n",
       "      <td>121.057508</td>\n",
       "      <td>14.584450</td>\n",
       "      <td>Japanese, Korean</td>\n",
       "      <td>...</td>\n",
       "      <td>Botswana Pula(P)</td>\n",
       "      <td>Yes</td>\n",
       "      <td>No</td>\n",
       "      <td>No</td>\n",
       "      <td>No</td>\n",
       "      <td>4</td>\n",
       "      <td>4.8</td>\n",
       "      <td>Dark Green</td>\n",
       "      <td>Excellent</td>\n",
       "      <td>229</td>\n",
       "    </tr>\n",
       "  </tbody>\n",
       "</table>\n",
       "<p>5 rows × 21 columns</p>\n",
       "</div>"
      ],
      "text/plain": [
       "   Restaurant ID         Restaurant Name  Country Code              City  \\\n",
       "0        6317637        Le Petit Souffle           162       Makati City   \n",
       "1        6304287        Izakaya Kikufuji           162       Makati City   \n",
       "2        6300002  Heat - Edsa Shangri-La           162  Mandaluyong City   \n",
       "3        6318506                    Ooma           162  Mandaluyong City   \n",
       "4        6314302             Sambo Kojin           162  Mandaluyong City   \n",
       "\n",
       "                                             Address  \\\n",
       "0  Third Floor, Century City Mall, Kalayaan Avenu...   \n",
       "1  Little Tokyo, 2277 Chino Roces Avenue, Legaspi...   \n",
       "2  Edsa Shangri-La, 1 Garden Way, Ortigas, Mandal...   \n",
       "3  Third Floor, Mega Fashion Hall, SM Megamall, O...   \n",
       "4  Third Floor, Mega Atrium, SM Megamall, Ortigas...   \n",
       "\n",
       "                                     Locality  \\\n",
       "0   Century City Mall, Poblacion, Makati City   \n",
       "1  Little Tokyo, Legaspi Village, Makati City   \n",
       "2  Edsa Shangri-La, Ortigas, Mandaluyong City   \n",
       "3      SM Megamall, Ortigas, Mandaluyong City   \n",
       "4      SM Megamall, Ortigas, Mandaluyong City   \n",
       "\n",
       "                                    Locality Verbose   Longitude   Latitude  \\\n",
       "0  Century City Mall, Poblacion, Makati City, Mak...  121.027535  14.565443   \n",
       "1  Little Tokyo, Legaspi Village, Makati City, Ma...  121.014101  14.553708   \n",
       "2  Edsa Shangri-La, Ortigas, Mandaluyong City, Ma...  121.056831  14.581404   \n",
       "3  SM Megamall, Ortigas, Mandaluyong City, Mandal...  121.056475  14.585318   \n",
       "4  SM Megamall, Ortigas, Mandaluyong City, Mandal...  121.057508  14.584450   \n",
       "\n",
       "                           Cuisines  ...          Currency Has Table booking  \\\n",
       "0        French, Japanese, Desserts  ...  Botswana Pula(P)               Yes   \n",
       "1                          Japanese  ...  Botswana Pula(P)               Yes   \n",
       "2  Seafood, Asian, Filipino, Indian  ...  Botswana Pula(P)               Yes   \n",
       "3                   Japanese, Sushi  ...  Botswana Pula(P)                No   \n",
       "4                  Japanese, Korean  ...  Botswana Pula(P)               Yes   \n",
       "\n",
       "  Has Online delivery Is delivering now Switch to order menu Price range  \\\n",
       "0                  No                No                   No           3   \n",
       "1                  No                No                   No           3   \n",
       "2                  No                No                   No           4   \n",
       "3                  No                No                   No           4   \n",
       "4                  No                No                   No           4   \n",
       "\n",
       "   Aggregate rating  Rating color Rating text Votes  \n",
       "0               4.8    Dark Green   Excellent   314  \n",
       "1               4.5    Dark Green   Excellent   591  \n",
       "2               4.4         Green   Very Good   270  \n",
       "3               4.9    Dark Green   Excellent   365  \n",
       "4               4.8    Dark Green   Excellent   229  \n",
       "\n",
       "[5 rows x 21 columns]"
      ]
     },
     "execution_count": 98,
     "metadata": {},
     "output_type": "execute_result"
    }
   ],
   "source": [
    "data=pd.read_csv(\"zomato.csv\",encoding='latin-1')\n",
    "data.head()"
   ]
  },
  {
   "cell_type": "code",
   "execution_count": 99,
   "metadata": {},
   "outputs": [
    {
     "data": {
      "text/plain": [
       "(9551, 21)"
      ]
     },
     "execution_count": 99,
     "metadata": {},
     "output_type": "execute_result"
    }
   ],
   "source": [
    "data.shape"
   ]
  },
  {
   "cell_type": "code",
   "execution_count": 100,
   "metadata": {},
   "outputs": [
    {
     "data": {
      "text/plain": [
       "Index(['Restaurant ID', 'Restaurant Name', 'Country Code', 'City', 'Address',\n",
       "       'Locality', 'Locality Verbose', 'Longitude', 'Latitude', 'Cuisines',\n",
       "       'Average Cost for two', 'Currency', 'Has Table booking',\n",
       "       'Has Online delivery', 'Is delivering now', 'Switch to order menu',\n",
       "       'Price range', 'Aggregate rating', 'Rating color', 'Rating text',\n",
       "       'Votes'],\n",
       "      dtype='object')"
      ]
     },
     "execution_count": 100,
     "metadata": {},
     "output_type": "execute_result"
    }
   ],
   "source": [
    "data.columns"
   ]
  },
  {
   "cell_type": "code",
   "execution_count": 101,
   "metadata": {},
   "outputs": [],
   "source": [
    "data.drop(columns=['Restaurant ID','Is delivering now'],inplace=True)"
   ]
  },
  {
   "cell_type": "code",
   "execution_count": 102,
   "metadata": {},
   "outputs": [
    {
     "data": {
      "text/plain": [
       "Index(['Restaurant Name', 'Country Code', 'City', 'Address', 'Locality',\n",
       "       'Locality Verbose', 'Longitude', 'Latitude', 'Cuisines',\n",
       "       'Average Cost for two', 'Currency', 'Has Table booking',\n",
       "       'Has Online delivery', 'Switch to order menu', 'Price range',\n",
       "       'Aggregate rating', 'Rating color', 'Rating text', 'Votes'],\n",
       "      dtype='object')"
      ]
     },
     "execution_count": 102,
     "metadata": {},
     "output_type": "execute_result"
    }
   ],
   "source": [
    "# After Removing Columns\n",
    "\n",
    "data.columns"
   ]
  },
  {
   "cell_type": "code",
   "execution_count": 103,
   "metadata": {},
   "outputs": [],
   "source": [
    "# Exploratory Data Analysis"
   ]
  },
  {
   "cell_type": "code",
   "execution_count": 104,
   "metadata": {},
   "outputs": [
    {
     "data": {
      "text/plain": [
       "1      8652\n",
       "216     434\n",
       "215      80\n",
       "214      60\n",
       "30       60\n",
       "189      60\n",
       "148      40\n",
       "208      34\n",
       "14       24\n",
       "162      22\n",
       "94       21\n",
       "191      20\n",
       "166      20\n",
       "184      20\n",
       "37        4\n",
       "Name: Country Code, dtype: int64"
      ]
     },
     "execution_count": 104,
     "metadata": {},
     "output_type": "execute_result"
    }
   ],
   "source": [
    "data['Country Code'].value_counts()"
   ]
  },
  {
   "cell_type": "code",
   "execution_count": 105,
   "metadata": {},
   "outputs": [],
   "source": [
    "# Removing all countries expect 1\n",
    "\n",
    "mask=data['Country Code']==1\n",
    "data=data[mask]"
   ]
  },
  {
   "cell_type": "code",
   "execution_count": 106,
   "metadata": {},
   "outputs": [
    {
     "data": {
      "text/plain": [
       "(8652, 19)"
      ]
     },
     "execution_count": 106,
     "metadata": {},
     "output_type": "execute_result"
    }
   ],
   "source": [
    "data.shape"
   ]
  },
  {
   "cell_type": "code",
   "execution_count": 107,
   "metadata": {},
   "outputs": [],
   "source": [
    "data.drop(columns=['Country Code','Currency'],inplace=True)"
   ]
  },
  {
   "cell_type": "code",
   "execution_count": 108,
   "metadata": {},
   "outputs": [
    {
     "data": {
      "text/plain": [
       "Index(['Restaurant Name', 'City', 'Address', 'Locality', 'Locality Verbose',\n",
       "       'Longitude', 'Latitude', 'Cuisines', 'Average Cost for two',\n",
       "       'Has Table booking', 'Has Online delivery', 'Switch to order menu',\n",
       "       'Price range', 'Aggregate rating', 'Rating color', 'Rating text',\n",
       "       'Votes'],\n",
       "      dtype='object')"
      ]
     },
     "execution_count": 108,
     "metadata": {},
     "output_type": "execute_result"
    }
   ],
   "source": [
    "data.columns"
   ]
  },
  {
   "cell_type": "code",
   "execution_count": 109,
   "metadata": {},
   "outputs": [
    {
     "data": {
      "text/plain": [
       "New Delhi       5473\n",
       "Gurgaon         1118\n",
       "Noida           1080\n",
       "Faridabad        251\n",
       "Ghaziabad         25\n",
       "Lucknow           21\n",
       "Bhubaneshwar      21\n",
       "Ahmedabad         21\n",
       "Guwahati          21\n",
       "Amritsar          21\n",
       "Kolkata           20\n",
       "Nagpur            20\n",
       "Bangalore         20\n",
       "Vizag             20\n",
       "Agra              20\n",
       "Mysore            20\n",
       "Allahabad         20\n",
       "Patna             20\n",
       "Indore            20\n",
       "Mumbai            20\n",
       "Kanpur            20\n",
       "Surat             20\n",
       "Chennai           20\n",
       "Pune              20\n",
       "Bhopal            20\n",
       "Jaipur            20\n",
       "Aurangabad        20\n",
       "Kochi             20\n",
       "Mangalore         20\n",
       "Coimbatore        20\n",
       "Dehradun          20\n",
       "Varanasi          20\n",
       "Nashik            20\n",
       "Vadodara          20\n",
       "Ludhiana          20\n",
       "Puducherry        20\n",
       "Goa               20\n",
       "Ranchi            20\n",
       "Chandigarh        18\n",
       "Hyderabad         18\n",
       "Secunderabad       2\n",
       "Panchkula          1\n",
       "Mohali             1\n",
       "Name: City, dtype: int64"
      ]
     },
     "execution_count": 109,
     "metadata": {},
     "output_type": "execute_result"
    }
   ],
   "source": [
    "data['City'].value_counts()"
   ]
  },
  {
   "cell_type": "code",
   "execution_count": 110,
   "metadata": {},
   "outputs": [
    {
     "data": {
      "text/plain": [
       "(7671, 17)"
      ]
     },
     "execution_count": 110,
     "metadata": {},
     "output_type": "execute_result"
    }
   ],
   "source": [
    "mask=data['City'].isin(['New Delhi','Gurgaon','Noida'])\n",
    "data=data[mask]\n",
    "data.shape"
   ]
  },
  {
   "cell_type": "code",
   "execution_count": 111,
   "metadata": {},
   "outputs": [
    {
     "data": {
      "text/plain": [
       "Index(['Restaurant Name', 'City', 'Address', 'Locality', 'Locality Verbose',\n",
       "       'Longitude', 'Latitude', 'Cuisines', 'Average Cost for two',\n",
       "       'Has Table booking', 'Has Online delivery', 'Switch to order menu',\n",
       "       'Price range', 'Aggregate rating', 'Rating color', 'Rating text',\n",
       "       'Votes'],\n",
       "      dtype='object')"
      ]
     },
     "execution_count": 111,
     "metadata": {},
     "output_type": "execute_result"
    }
   ],
   "source": [
    "data.columns"
   ]
  },
  {
   "cell_type": "code",
   "execution_count": 112,
   "metadata": {},
   "outputs": [],
   "source": [
    "data.drop(columns={'Restaurant Name','Address', 'Locality', 'Locality Verbose','Rating color', 'Rating text'},inplace=True)"
   ]
  },
  {
   "cell_type": "code",
   "execution_count": 113,
   "metadata": {},
   "outputs": [
    {
     "data": {
      "text/plain": [
       "Index(['City', 'Longitude', 'Latitude', 'Cuisines', 'Average Cost for two',\n",
       "       'Has Table booking', 'Has Online delivery', 'Switch to order menu',\n",
       "       'Price range', 'Aggregate rating', 'Votes'],\n",
       "      dtype='object')"
      ]
     },
     "execution_count": 113,
     "metadata": {},
     "output_type": "execute_result"
    }
   ],
   "source": [
    "data.columns"
   ]
  },
  {
   "cell_type": "code",
   "execution_count": 114,
   "metadata": {},
   "outputs": [
    {
     "data": {
      "text/plain": [
       "No     6640\n",
       "Yes    1031\n",
       "Name: Has Table booking, dtype: int64"
      ]
     },
     "execution_count": 114,
     "metadata": {},
     "output_type": "execute_result"
    }
   ],
   "source": [
    "data['Has Table booking'].value_counts()"
   ]
  },
  {
   "cell_type": "code",
   "execution_count": 115,
   "metadata": {},
   "outputs": [
    {
     "data": {
      "text/plain": [
       "No     5393\n",
       "Yes    2278\n",
       "Name: Has Online delivery, dtype: int64"
      ]
     },
     "execution_count": 115,
     "metadata": {},
     "output_type": "execute_result"
    }
   ],
   "source": [
    "data['Has Online delivery'].value_counts()"
   ]
  },
  {
   "cell_type": "code",
   "execution_count": 116,
   "metadata": {},
   "outputs": [],
   "source": [
    "data['Has Online delivery'].replace('Yes',1,inplace=True)\n",
    "data['Has Online delivery'].replace('No',0,inplace=True)"
   ]
  },
  {
   "cell_type": "code",
   "execution_count": 117,
   "metadata": {},
   "outputs": [
    {
     "data": {
      "text/plain": [
       "0    5393\n",
       "1    2278\n",
       "Name: Has Online delivery, dtype: int64"
      ]
     },
     "execution_count": 117,
     "metadata": {},
     "output_type": "execute_result"
    }
   ],
   "source": [
    "data['Has Online delivery'].value_counts()"
   ]
  },
  {
   "cell_type": "code",
   "execution_count": 118,
   "metadata": {},
   "outputs": [],
   "source": [
    "data['Has Table booking'].replace('Yes',1,inplace=True)\n",
    "data['Has Table booking'].replace('No',0,inplace=True)"
   ]
  },
  {
   "cell_type": "code",
   "execution_count": 119,
   "metadata": {},
   "outputs": [
    {
     "data": {
      "text/plain": [
       "0    6640\n",
       "1    1031\n",
       "Name: Has Table booking, dtype: int64"
      ]
     },
     "execution_count": 119,
     "metadata": {},
     "output_type": "execute_result"
    }
   ],
   "source": [
    "data['Has Table booking'].value_counts()"
   ]
  },
  {
   "cell_type": "code",
   "execution_count": 120,
   "metadata": {},
   "outputs": [
    {
     "data": {
      "text/plain": [
       "No    7671\n",
       "Name: Switch to order menu, dtype: int64"
      ]
     },
     "execution_count": 120,
     "metadata": {},
     "output_type": "execute_result"
    }
   ],
   "source": [
    "data['Switch to order menu'].value_counts()"
   ]
  },
  {
   "cell_type": "code",
   "execution_count": 121,
   "metadata": {},
   "outputs": [],
   "source": [
    "data.drop(columns=['Switch to order menu'],inplace=True)"
   ]
  },
  {
   "cell_type": "code",
   "execution_count": 122,
   "metadata": {},
   "outputs": [
    {
     "data": {
      "text/plain": [
       "Index(['City', 'Longitude', 'Latitude', 'Cuisines', 'Average Cost for two',\n",
       "       'Has Table booking', 'Has Online delivery', 'Price range',\n",
       "       'Aggregate rating', 'Votes'],\n",
       "      dtype='object')"
      ]
     },
     "execution_count": 122,
     "metadata": {},
     "output_type": "execute_result"
    }
   ],
   "source": [
    "data.columns"
   ]
  },
  {
   "cell_type": "code",
   "execution_count": 123,
   "metadata": {},
   "outputs": [
    {
     "data": {
      "text/plain": [
       "North Indian                           873\n",
       "North Indian, Chinese                  447\n",
       "Fast Food                              320\n",
       "Chinese                                314\n",
       "North Indian, Mughlai                  303\n",
       "                                      ... \n",
       "Asian, Continental, Fast Food            1\n",
       "Cafe, Pizza, Italian                     1\n",
       "European, Desserts                       1\n",
       "Mediterranean, Continental, Italian      1\n",
       "Chinese, North Eastern                   1\n",
       "Name: Cuisines, Length: 1143, dtype: int64"
      ]
     },
     "execution_count": 123,
     "metadata": {},
     "output_type": "execute_result"
    }
   ],
   "source": [
    "data['Cuisines'].value_counts()"
   ]
  },
  {
   "cell_type": "code",
   "execution_count": 124,
   "metadata": {},
   "outputs": [
    {
     "data": {
      "text/html": [
       "<div>\n",
       "<style scoped>\n",
       "    .dataframe tbody tr th:only-of-type {\n",
       "        vertical-align: middle;\n",
       "    }\n",
       "\n",
       "    .dataframe tbody tr th {\n",
       "        vertical-align: top;\n",
       "    }\n",
       "\n",
       "    .dataframe thead th {\n",
       "        text-align: right;\n",
       "    }\n",
       "</style>\n",
       "<table border=\"1\" class=\"dataframe\">\n",
       "  <thead>\n",
       "    <tr style=\"text-align: right;\">\n",
       "      <th></th>\n",
       "      <th>Longitude</th>\n",
       "      <th>Latitude</th>\n",
       "      <th>Average Cost for two</th>\n",
       "      <th>Has Table booking</th>\n",
       "      <th>Has Online delivery</th>\n",
       "      <th>Price range</th>\n",
       "      <th>Aggregate rating</th>\n",
       "      <th>Votes</th>\n",
       "    </tr>\n",
       "  </thead>\n",
       "  <tbody>\n",
       "    <tr>\n",
       "      <th>Longitude</th>\n",
       "      <td>1.000000</td>\n",
       "      <td>0.997721</td>\n",
       "      <td>0.071854</td>\n",
       "      <td>0.059863</td>\n",
       "      <td>0.138230</td>\n",
       "      <td>0.082031</td>\n",
       "      <td>0.221801</td>\n",
       "      <td>0.071482</td>\n",
       "    </tr>\n",
       "    <tr>\n",
       "      <th>Latitude</th>\n",
       "      <td>0.997721</td>\n",
       "      <td>1.000000</td>\n",
       "      <td>0.070816</td>\n",
       "      <td>0.060228</td>\n",
       "      <td>0.137746</td>\n",
       "      <td>0.081059</td>\n",
       "      <td>0.221399</td>\n",
       "      <td>0.071196</td>\n",
       "    </tr>\n",
       "    <tr>\n",
       "      <th>Average Cost for two</th>\n",
       "      <td>0.071854</td>\n",
       "      <td>0.070816</td>\n",
       "      <td>1.000000</td>\n",
       "      <td>0.643845</td>\n",
       "      <td>0.072198</td>\n",
       "      <td>0.848425</td>\n",
       "      <td>0.329785</td>\n",
       "      <td>0.297741</td>\n",
       "    </tr>\n",
       "    <tr>\n",
       "      <th>Has Table booking</th>\n",
       "      <td>0.059863</td>\n",
       "      <td>0.060228</td>\n",
       "      <td>0.643845</td>\n",
       "      <td>1.000000</td>\n",
       "      <td>0.072631</td>\n",
       "      <td>0.661477</td>\n",
       "      <td>0.251972</td>\n",
       "      <td>0.224377</td>\n",
       "    </tr>\n",
       "    <tr>\n",
       "      <th>Has Online delivery</th>\n",
       "      <td>0.138230</td>\n",
       "      <td>0.137746</td>\n",
       "      <td>0.072198</td>\n",
       "      <td>0.072631</td>\n",
       "      <td>1.000000</td>\n",
       "      <td>0.184855</td>\n",
       "      <td>0.339658</td>\n",
       "      <td>0.121491</td>\n",
       "    </tr>\n",
       "    <tr>\n",
       "      <th>Price range</th>\n",
       "      <td>0.082031</td>\n",
       "      <td>0.081059</td>\n",
       "      <td>0.848425</td>\n",
       "      <td>0.661477</td>\n",
       "      <td>0.184855</td>\n",
       "      <td>1.000000</td>\n",
       "      <td>0.372624</td>\n",
       "      <td>0.325489</td>\n",
       "    </tr>\n",
       "    <tr>\n",
       "      <th>Aggregate rating</th>\n",
       "      <td>0.221801</td>\n",
       "      <td>0.221399</td>\n",
       "      <td>0.329785</td>\n",
       "      <td>0.251972</td>\n",
       "      <td>0.339658</td>\n",
       "      <td>0.372624</td>\n",
       "      <td>1.000000</td>\n",
       "      <td>0.291500</td>\n",
       "    </tr>\n",
       "    <tr>\n",
       "      <th>Votes</th>\n",
       "      <td>0.071482</td>\n",
       "      <td>0.071196</td>\n",
       "      <td>0.297741</td>\n",
       "      <td>0.224377</td>\n",
       "      <td>0.121491</td>\n",
       "      <td>0.325489</td>\n",
       "      <td>0.291500</td>\n",
       "      <td>1.000000</td>\n",
       "    </tr>\n",
       "  </tbody>\n",
       "</table>\n",
       "</div>"
      ],
      "text/plain": [
       "                      Longitude  Latitude  Average Cost for two  \\\n",
       "Longitude              1.000000  0.997721              0.071854   \n",
       "Latitude               0.997721  1.000000              0.070816   \n",
       "Average Cost for two   0.071854  0.070816              1.000000   \n",
       "Has Table booking      0.059863  0.060228              0.643845   \n",
       "Has Online delivery    0.138230  0.137746              0.072198   \n",
       "Price range            0.082031  0.081059              0.848425   \n",
       "Aggregate rating       0.221801  0.221399              0.329785   \n",
       "Votes                  0.071482  0.071196              0.297741   \n",
       "\n",
       "                      Has Table booking  Has Online delivery  Price range  \\\n",
       "Longitude                      0.059863             0.138230     0.082031   \n",
       "Latitude                       0.060228             0.137746     0.081059   \n",
       "Average Cost for two           0.643845             0.072198     0.848425   \n",
       "Has Table booking              1.000000             0.072631     0.661477   \n",
       "Has Online delivery            0.072631             1.000000     0.184855   \n",
       "Price range                    0.661477             0.184855     1.000000   \n",
       "Aggregate rating               0.251972             0.339658     0.372624   \n",
       "Votes                          0.224377             0.121491     0.325489   \n",
       "\n",
       "                      Aggregate rating     Votes  \n",
       "Longitude                     0.221801  0.071482  \n",
       "Latitude                      0.221399  0.071196  \n",
       "Average Cost for two          0.329785  0.297741  \n",
       "Has Table booking             0.251972  0.224377  \n",
       "Has Online delivery           0.339658  0.121491  \n",
       "Price range                   0.372624  0.325489  \n",
       "Aggregate rating              1.000000  0.291500  \n",
       "Votes                         0.291500  1.000000  "
      ]
     },
     "execution_count": 124,
     "metadata": {},
     "output_type": "execute_result"
    }
   ],
   "source": [
    "data.corr()"
   ]
  },
  {
   "cell_type": "code",
   "execution_count": 125,
   "metadata": {},
   "outputs": [
    {
     "data": {
      "text/plain": [
       "Longitude               0.071854\n",
       "Latitude                0.070816\n",
       "Average Cost for two    1.000000\n",
       "Has Table booking       0.643845\n",
       "Has Online delivery     0.072198\n",
       "Price range             0.848425\n",
       "Aggregate rating        0.329785\n",
       "Votes                   0.297741\n",
       "Name: Average Cost for two, dtype: float64"
      ]
     },
     "execution_count": 125,
     "metadata": {},
     "output_type": "execute_result"
    }
   ],
   "source": [
    "data.corr()['Average Cost for two']"
   ]
  },
  {
   "cell_type": "code",
   "execution_count": 126,
   "metadata": {},
   "outputs": [],
   "source": [
    "data.drop(columns=['Longitude','Latitude','Has Online delivery','Price range'],inplace=True)"
   ]
  },
  {
   "cell_type": "code",
   "execution_count": 127,
   "metadata": {},
   "outputs": [
    {
     "data": {
      "text/html": [
       "<div>\n",
       "<style scoped>\n",
       "    .dataframe tbody tr th:only-of-type {\n",
       "        vertical-align: middle;\n",
       "    }\n",
       "\n",
       "    .dataframe tbody tr th {\n",
       "        vertical-align: top;\n",
       "    }\n",
       "\n",
       "    .dataframe thead th {\n",
       "        text-align: right;\n",
       "    }\n",
       "</style>\n",
       "<table border=\"1\" class=\"dataframe\">\n",
       "  <thead>\n",
       "    <tr style=\"text-align: right;\">\n",
       "      <th></th>\n",
       "      <th>City</th>\n",
       "      <th>Cuisines</th>\n",
       "      <th>Average Cost for two</th>\n",
       "      <th>Has Table booking</th>\n",
       "      <th>Aggregate rating</th>\n",
       "      <th>Votes</th>\n",
       "    </tr>\n",
       "  </thead>\n",
       "  <tbody>\n",
       "    <tr>\n",
       "      <th>1161</th>\n",
       "      <td>Gurgaon</td>\n",
       "      <td>Cafe, Beverages</td>\n",
       "      <td>350</td>\n",
       "      <td>0</td>\n",
       "      <td>3.4</td>\n",
       "      <td>16</td>\n",
       "    </tr>\n",
       "    <tr>\n",
       "      <th>1162</th>\n",
       "      <td>Gurgaon</td>\n",
       "      <td>North Indian, Mughlai</td>\n",
       "      <td>800</td>\n",
       "      <td>1</td>\n",
       "      <td>2.7</td>\n",
       "      <td>80</td>\n",
       "    </tr>\n",
       "    <tr>\n",
       "      <th>1163</th>\n",
       "      <td>Gurgaon</td>\n",
       "      <td>North Indian, Mughlai</td>\n",
       "      <td>2000</td>\n",
       "      <td>1</td>\n",
       "      <td>4.3</td>\n",
       "      <td>1887</td>\n",
       "    </tr>\n",
       "    <tr>\n",
       "      <th>1164</th>\n",
       "      <td>Gurgaon</td>\n",
       "      <td>South Indian, Seafood, Kerala</td>\n",
       "      <td>1400</td>\n",
       "      <td>1</td>\n",
       "      <td>4.0</td>\n",
       "      <td>802</td>\n",
       "    </tr>\n",
       "    <tr>\n",
       "      <th>1165</th>\n",
       "      <td>Gurgaon</td>\n",
       "      <td>Bakery</td>\n",
       "      <td>250</td>\n",
       "      <td>0</td>\n",
       "      <td>3.0</td>\n",
       "      <td>4</td>\n",
       "    </tr>\n",
       "    <tr>\n",
       "      <th>...</th>\n",
       "      <td>...</td>\n",
       "      <td>...</td>\n",
       "      <td>...</td>\n",
       "      <td>...</td>\n",
       "      <td>...</td>\n",
       "      <td>...</td>\n",
       "    </tr>\n",
       "    <tr>\n",
       "      <th>9108</th>\n",
       "      <td>Noida</td>\n",
       "      <td>North Indian, Chinese</td>\n",
       "      <td>700</td>\n",
       "      <td>0</td>\n",
       "      <td>2.6</td>\n",
       "      <td>34</td>\n",
       "    </tr>\n",
       "    <tr>\n",
       "      <th>9109</th>\n",
       "      <td>Noida</td>\n",
       "      <td>Fast Food</td>\n",
       "      <td>400</td>\n",
       "      <td>0</td>\n",
       "      <td>0.0</td>\n",
       "      <td>1</td>\n",
       "    </tr>\n",
       "    <tr>\n",
       "      <th>9110</th>\n",
       "      <td>Noida</td>\n",
       "      <td>Fast Food</td>\n",
       "      <td>600</td>\n",
       "      <td>0</td>\n",
       "      <td>0.0</td>\n",
       "      <td>3</td>\n",
       "    </tr>\n",
       "    <tr>\n",
       "      <th>9111</th>\n",
       "      <td>Noida</td>\n",
       "      <td>North Indian, Chinese</td>\n",
       "      <td>500</td>\n",
       "      <td>0</td>\n",
       "      <td>0.0</td>\n",
       "      <td>0</td>\n",
       "    </tr>\n",
       "    <tr>\n",
       "      <th>9112</th>\n",
       "      <td>Noida</td>\n",
       "      <td>Raw Meats, Fast Food</td>\n",
       "      <td>250</td>\n",
       "      <td>0</td>\n",
       "      <td>0.0</td>\n",
       "      <td>1</td>\n",
       "    </tr>\n",
       "  </tbody>\n",
       "</table>\n",
       "<p>7671 rows × 6 columns</p>\n",
       "</div>"
      ],
      "text/plain": [
       "         City                       Cuisines  Average Cost for two  \\\n",
       "1161  Gurgaon                Cafe, Beverages                   350   \n",
       "1162  Gurgaon          North Indian, Mughlai                   800   \n",
       "1163  Gurgaon          North Indian, Mughlai                  2000   \n",
       "1164  Gurgaon  South Indian, Seafood, Kerala                  1400   \n",
       "1165  Gurgaon                         Bakery                   250   \n",
       "...       ...                            ...                   ...   \n",
       "9108    Noida          North Indian, Chinese                   700   \n",
       "9109    Noida                      Fast Food                   400   \n",
       "9110    Noida                      Fast Food                   600   \n",
       "9111    Noida          North Indian, Chinese                   500   \n",
       "9112    Noida           Raw Meats, Fast Food                   250   \n",
       "\n",
       "      Has Table booking  Aggregate rating  Votes  \n",
       "1161                  0               3.4     16  \n",
       "1162                  1               2.7     80  \n",
       "1163                  1               4.3   1887  \n",
       "1164                  1               4.0    802  \n",
       "1165                  0               3.0      4  \n",
       "...                 ...               ...    ...  \n",
       "9108                  0               2.6     34  \n",
       "9109                  0               0.0      1  \n",
       "9110                  0               0.0      3  \n",
       "9111                  0               0.0      0  \n",
       "9112                  0               0.0      1  \n",
       "\n",
       "[7671 rows x 6 columns]"
      ]
     },
     "execution_count": 127,
     "metadata": {},
     "output_type": "execute_result"
    }
   ],
   "source": [
    "data"
   ]
  },
  {
   "cell_type": "code",
   "execution_count": 128,
   "metadata": {},
   "outputs": [
    {
     "data": {
      "text/html": [
       "<div>\n",
       "<style scoped>\n",
       "    .dataframe tbody tr th:only-of-type {\n",
       "        vertical-align: middle;\n",
       "    }\n",
       "\n",
       "    .dataframe tbody tr th {\n",
       "        vertical-align: top;\n",
       "    }\n",
       "\n",
       "    .dataframe thead th {\n",
       "        text-align: right;\n",
       "    }\n",
       "</style>\n",
       "<table border=\"1\" class=\"dataframe\">\n",
       "  <thead>\n",
       "    <tr style=\"text-align: right;\">\n",
       "      <th></th>\n",
       "      <th>Cuisines</th>\n",
       "      <th>Average Cost for two</th>\n",
       "    </tr>\n",
       "  </thead>\n",
       "  <tbody>\n",
       "    <tr>\n",
       "      <th>0</th>\n",
       "      <td>Afghani</td>\n",
       "      <td>512.500000</td>\n",
       "    </tr>\n",
       "    <tr>\n",
       "      <th>1</th>\n",
       "      <td>Afghani, Mughlai, Chinese</td>\n",
       "      <td>500.000000</td>\n",
       "    </tr>\n",
       "    <tr>\n",
       "      <th>2</th>\n",
       "      <td>Afghani, North Indian</td>\n",
       "      <td>900.000000</td>\n",
       "    </tr>\n",
       "    <tr>\n",
       "      <th>3</th>\n",
       "      <td>Afghani, North Indian, Pakistani, Arabian</td>\n",
       "      <td>500.000000</td>\n",
       "    </tr>\n",
       "    <tr>\n",
       "      <th>4</th>\n",
       "      <td>American</td>\n",
       "      <td>666.666667</td>\n",
       "    </tr>\n",
       "    <tr>\n",
       "      <th>...</th>\n",
       "      <td>...</td>\n",
       "      <td>...</td>\n",
       "    </tr>\n",
       "    <tr>\n",
       "      <th>1138</th>\n",
       "      <td>Tibetan, Street Food</td>\n",
       "      <td>100.000000</td>\n",
       "    </tr>\n",
       "    <tr>\n",
       "      <th>1139</th>\n",
       "      <td>Turkish</td>\n",
       "      <td>600.000000</td>\n",
       "    </tr>\n",
       "    <tr>\n",
       "      <th>1140</th>\n",
       "      <td>Turkish, Arabian, Moroccan, Lebanese</td>\n",
       "      <td>400.000000</td>\n",
       "    </tr>\n",
       "    <tr>\n",
       "      <th>1141</th>\n",
       "      <td>Turkish, Mediterranean, Middle Eastern</td>\n",
       "      <td>2000.000000</td>\n",
       "    </tr>\n",
       "    <tr>\n",
       "      <th>1142</th>\n",
       "      <td>Vietnamese</td>\n",
       "      <td>1000.000000</td>\n",
       "    </tr>\n",
       "  </tbody>\n",
       "</table>\n",
       "<p>1143 rows × 2 columns</p>\n",
       "</div>"
      ],
      "text/plain": [
       "                                       Cuisines  Average Cost for two\n",
       "0                                       Afghani            512.500000\n",
       "1                     Afghani, Mughlai, Chinese            500.000000\n",
       "2                         Afghani, North Indian            900.000000\n",
       "3     Afghani, North Indian, Pakistani, Arabian            500.000000\n",
       "4                                      American            666.666667\n",
       "...                                         ...                   ...\n",
       "1138                       Tibetan, Street Food            100.000000\n",
       "1139                                    Turkish            600.000000\n",
       "1140       Turkish, Arabian, Moroccan, Lebanese            400.000000\n",
       "1141     Turkish, Mediterranean, Middle Eastern           2000.000000\n",
       "1142                                 Vietnamese           1000.000000\n",
       "\n",
       "[1143 rows x 2 columns]"
      ]
     },
     "execution_count": 128,
     "metadata": {},
     "output_type": "execute_result"
    }
   ],
   "source": [
    "cuisine=data.groupby('Cuisines')['Average Cost for two'].mean().reset_index()\n",
    "cuisine"
   ]
  },
  {
   "cell_type": "code",
   "execution_count": 129,
   "metadata": {},
   "outputs": [
    {
     "data": {
      "text/html": [
       "<div>\n",
       "<style scoped>\n",
       "    .dataframe tbody tr th:only-of-type {\n",
       "        vertical-align: middle;\n",
       "    }\n",
       "\n",
       "    .dataframe tbody tr th {\n",
       "        vertical-align: top;\n",
       "    }\n",
       "\n",
       "    .dataframe thead th {\n",
       "        text-align: right;\n",
       "    }\n",
       "</style>\n",
       "<table border=\"1\" class=\"dataframe\">\n",
       "  <thead>\n",
       "    <tr style=\"text-align: right;\">\n",
       "      <th></th>\n",
       "      <th>City</th>\n",
       "      <th>Cuisines</th>\n",
       "      <th>Average Cost for two_x</th>\n",
       "      <th>Has Table booking</th>\n",
       "      <th>Aggregate rating</th>\n",
       "      <th>Votes</th>\n",
       "      <th>Average Cost for two_y</th>\n",
       "    </tr>\n",
       "  </thead>\n",
       "  <tbody>\n",
       "    <tr>\n",
       "      <th>0</th>\n",
       "      <td>Gurgaon</td>\n",
       "      <td>Cafe, Beverages</td>\n",
       "      <td>350</td>\n",
       "      <td>0</td>\n",
       "      <td>3.4</td>\n",
       "      <td>16</td>\n",
       "      <td>416.666667</td>\n",
       "    </tr>\n",
       "    <tr>\n",
       "      <th>1</th>\n",
       "      <td>New Delhi</td>\n",
       "      <td>Cafe, Beverages</td>\n",
       "      <td>200</td>\n",
       "      <td>0</td>\n",
       "      <td>0.0</td>\n",
       "      <td>0</td>\n",
       "      <td>416.666667</td>\n",
       "    </tr>\n",
       "    <tr>\n",
       "      <th>2</th>\n",
       "      <td>New Delhi</td>\n",
       "      <td>Cafe, Beverages</td>\n",
       "      <td>700</td>\n",
       "      <td>0</td>\n",
       "      <td>4.1</td>\n",
       "      <td>92</td>\n",
       "      <td>416.666667</td>\n",
       "    </tr>\n",
       "    <tr>\n",
       "      <th>3</th>\n",
       "      <td>Gurgaon</td>\n",
       "      <td>North Indian, Mughlai</td>\n",
       "      <td>800</td>\n",
       "      <td>1</td>\n",
       "      <td>2.7</td>\n",
       "      <td>80</td>\n",
       "      <td>755.511551</td>\n",
       "    </tr>\n",
       "    <tr>\n",
       "      <th>4</th>\n",
       "      <td>Gurgaon</td>\n",
       "      <td>North Indian, Mughlai</td>\n",
       "      <td>2000</td>\n",
       "      <td>1</td>\n",
       "      <td>4.3</td>\n",
       "      <td>1887</td>\n",
       "      <td>755.511551</td>\n",
       "    </tr>\n",
       "    <tr>\n",
       "      <th>...</th>\n",
       "      <td>...</td>\n",
       "      <td>...</td>\n",
       "      <td>...</td>\n",
       "      <td>...</td>\n",
       "      <td>...</td>\n",
       "      <td>...</td>\n",
       "      <td>...</td>\n",
       "    </tr>\n",
       "    <tr>\n",
       "      <th>7666</th>\n",
       "      <td>Noida</td>\n",
       "      <td>European, North Indian, Chinese</td>\n",
       "      <td>2500</td>\n",
       "      <td>1</td>\n",
       "      <td>2.2</td>\n",
       "      <td>116</td>\n",
       "      <td>2500.000000</td>\n",
       "    </tr>\n",
       "    <tr>\n",
       "      <th>7667</th>\n",
       "      <td>Noida</td>\n",
       "      <td>Juices, Beverages, Fast Food</td>\n",
       "      <td>200</td>\n",
       "      <td>0</td>\n",
       "      <td>3.0</td>\n",
       "      <td>10</td>\n",
       "      <td>200.000000</td>\n",
       "    </tr>\n",
       "    <tr>\n",
       "      <th>7668</th>\n",
       "      <td>Noida</td>\n",
       "      <td>Bakery, Desserts, Fast Food, North Indian</td>\n",
       "      <td>450</td>\n",
       "      <td>0</td>\n",
       "      <td>3.5</td>\n",
       "      <td>105</td>\n",
       "      <td>450.000000</td>\n",
       "    </tr>\n",
       "    <tr>\n",
       "      <th>7669</th>\n",
       "      <td>Noida</td>\n",
       "      <td>Continental, Lebanese, Mexican</td>\n",
       "      <td>1000</td>\n",
       "      <td>1</td>\n",
       "      <td>0.0</td>\n",
       "      <td>0</td>\n",
       "      <td>1000.000000</td>\n",
       "    </tr>\n",
       "    <tr>\n",
       "      <th>7670</th>\n",
       "      <td>Noida</td>\n",
       "      <td>Chinese, North Indian, South Indian, Fast Food</td>\n",
       "      <td>450</td>\n",
       "      <td>0</td>\n",
       "      <td>2.0</td>\n",
       "      <td>161</td>\n",
       "      <td>450.000000</td>\n",
       "    </tr>\n",
       "  </tbody>\n",
       "</table>\n",
       "<p>7671 rows × 7 columns</p>\n",
       "</div>"
      ],
      "text/plain": [
       "           City                                        Cuisines  \\\n",
       "0       Gurgaon                                 Cafe, Beverages   \n",
       "1     New Delhi                                 Cafe, Beverages   \n",
       "2     New Delhi                                 Cafe, Beverages   \n",
       "3       Gurgaon                           North Indian, Mughlai   \n",
       "4       Gurgaon                           North Indian, Mughlai   \n",
       "...         ...                                             ...   \n",
       "7666      Noida                 European, North Indian, Chinese   \n",
       "7667      Noida                    Juices, Beverages, Fast Food   \n",
       "7668      Noida       Bakery, Desserts, Fast Food, North Indian   \n",
       "7669      Noida                  Continental, Lebanese, Mexican   \n",
       "7670      Noida  Chinese, North Indian, South Indian, Fast Food   \n",
       "\n",
       "      Average Cost for two_x  Has Table booking  Aggregate rating  Votes  \\\n",
       "0                        350                  0               3.4     16   \n",
       "1                        200                  0               0.0      0   \n",
       "2                        700                  0               4.1     92   \n",
       "3                        800                  1               2.7     80   \n",
       "4                       2000                  1               4.3   1887   \n",
       "...                      ...                ...               ...    ...   \n",
       "7666                    2500                  1               2.2    116   \n",
       "7667                     200                  0               3.0     10   \n",
       "7668                     450                  0               3.5    105   \n",
       "7669                    1000                  1               0.0      0   \n",
       "7670                     450                  0               2.0    161   \n",
       "\n",
       "      Average Cost for two_y  \n",
       "0                 416.666667  \n",
       "1                 416.666667  \n",
       "2                 416.666667  \n",
       "3                 755.511551  \n",
       "4                 755.511551  \n",
       "...                      ...  \n",
       "7666             2500.000000  \n",
       "7667              200.000000  \n",
       "7668              450.000000  \n",
       "7669             1000.000000  \n",
       "7670              450.000000  \n",
       "\n",
       "[7671 rows x 7 columns]"
      ]
     },
     "execution_count": 129,
     "metadata": {},
     "output_type": "execute_result"
    }
   ],
   "source": [
    "new_data=data.merge(cuisine, on='Cuisines')\n",
    "new_data"
   ]
  },
  {
   "cell_type": "code",
   "execution_count": 130,
   "metadata": {},
   "outputs": [
    {
     "data": {
      "text/html": [
       "<div>\n",
       "<style scoped>\n",
       "    .dataframe tbody tr th:only-of-type {\n",
       "        vertical-align: middle;\n",
       "    }\n",
       "\n",
       "    .dataframe tbody tr th {\n",
       "        vertical-align: top;\n",
       "    }\n",
       "\n",
       "    .dataframe thead th {\n",
       "        text-align: right;\n",
       "    }\n",
       "</style>\n",
       "<table border=\"1\" class=\"dataframe\">\n",
       "  <thead>\n",
       "    <tr style=\"text-align: right;\">\n",
       "      <th></th>\n",
       "      <th>City</th>\n",
       "      <th>Average Cost for two_x</th>\n",
       "      <th>Has Table booking</th>\n",
       "      <th>Aggregate rating</th>\n",
       "      <th>Votes</th>\n",
       "      <th>Average Cost for two_y</th>\n",
       "    </tr>\n",
       "  </thead>\n",
       "  <tbody>\n",
       "    <tr>\n",
       "      <th>0</th>\n",
       "      <td>Gurgaon</td>\n",
       "      <td>350</td>\n",
       "      <td>0</td>\n",
       "      <td>3.4</td>\n",
       "      <td>16</td>\n",
       "      <td>416.666667</td>\n",
       "    </tr>\n",
       "    <tr>\n",
       "      <th>1</th>\n",
       "      <td>New Delhi</td>\n",
       "      <td>200</td>\n",
       "      <td>0</td>\n",
       "      <td>0.0</td>\n",
       "      <td>0</td>\n",
       "      <td>416.666667</td>\n",
       "    </tr>\n",
       "    <tr>\n",
       "      <th>2</th>\n",
       "      <td>New Delhi</td>\n",
       "      <td>700</td>\n",
       "      <td>0</td>\n",
       "      <td>4.1</td>\n",
       "      <td>92</td>\n",
       "      <td>416.666667</td>\n",
       "    </tr>\n",
       "    <tr>\n",
       "      <th>3</th>\n",
       "      <td>Gurgaon</td>\n",
       "      <td>800</td>\n",
       "      <td>1</td>\n",
       "      <td>2.7</td>\n",
       "      <td>80</td>\n",
       "      <td>755.511551</td>\n",
       "    </tr>\n",
       "    <tr>\n",
       "      <th>4</th>\n",
       "      <td>Gurgaon</td>\n",
       "      <td>2000</td>\n",
       "      <td>1</td>\n",
       "      <td>4.3</td>\n",
       "      <td>1887</td>\n",
       "      <td>755.511551</td>\n",
       "    </tr>\n",
       "  </tbody>\n",
       "</table>\n",
       "</div>"
      ],
      "text/plain": [
       "        City  Average Cost for two_x  Has Table booking  Aggregate rating  \\\n",
       "0    Gurgaon                     350                  0               3.4   \n",
       "1  New Delhi                     200                  0               0.0   \n",
       "2  New Delhi                     700                  0               4.1   \n",
       "3    Gurgaon                     800                  1               2.7   \n",
       "4    Gurgaon                    2000                  1               4.3   \n",
       "\n",
       "   Votes  Average Cost for two_y  \n",
       "0     16              416.666667  \n",
       "1      0              416.666667  \n",
       "2     92              416.666667  \n",
       "3     80              755.511551  \n",
       "4   1887              755.511551  "
      ]
     },
     "execution_count": 130,
     "metadata": {},
     "output_type": "execute_result"
    }
   ],
   "source": [
    "new_data.drop(columns={'Cuisines'},inplace=True)\n",
    "new_data.head()"
   ]
  },
  {
   "cell_type": "code",
   "execution_count": 131,
   "metadata": {},
   "outputs": [],
   "source": [
    "new_data.rename(columns={'Average Cost for two_x':'cost','Average Cost for two_y':'cuisine'},inplace=True)"
   ]
  },
  {
   "cell_type": "code",
   "execution_count": 132,
   "metadata": {},
   "outputs": [],
   "source": [
    "new_data=new_data[['City','Has Table booking','Aggregate rating','Votes','cuisine','cost']]"
   ]
  },
  {
   "cell_type": "code",
   "execution_count": 133,
   "metadata": {},
   "outputs": [
    {
     "data": {
      "text/html": [
       "<div>\n",
       "<style scoped>\n",
       "    .dataframe tbody tr th:only-of-type {\n",
       "        vertical-align: middle;\n",
       "    }\n",
       "\n",
       "    .dataframe tbody tr th {\n",
       "        vertical-align: top;\n",
       "    }\n",
       "\n",
       "    .dataframe thead th {\n",
       "        text-align: right;\n",
       "    }\n",
       "</style>\n",
       "<table border=\"1\" class=\"dataframe\">\n",
       "  <thead>\n",
       "    <tr style=\"text-align: right;\">\n",
       "      <th></th>\n",
       "      <th>City</th>\n",
       "      <th>Has Table booking</th>\n",
       "      <th>Aggregate rating</th>\n",
       "      <th>Votes</th>\n",
       "      <th>cuisine</th>\n",
       "      <th>cost</th>\n",
       "    </tr>\n",
       "  </thead>\n",
       "  <tbody>\n",
       "    <tr>\n",
       "      <th>0</th>\n",
       "      <td>Gurgaon</td>\n",
       "      <td>0</td>\n",
       "      <td>3.4</td>\n",
       "      <td>16</td>\n",
       "      <td>416.666667</td>\n",
       "      <td>350</td>\n",
       "    </tr>\n",
       "    <tr>\n",
       "      <th>1</th>\n",
       "      <td>New Delhi</td>\n",
       "      <td>0</td>\n",
       "      <td>0.0</td>\n",
       "      <td>0</td>\n",
       "      <td>416.666667</td>\n",
       "      <td>200</td>\n",
       "    </tr>\n",
       "    <tr>\n",
       "      <th>2</th>\n",
       "      <td>New Delhi</td>\n",
       "      <td>0</td>\n",
       "      <td>4.1</td>\n",
       "      <td>92</td>\n",
       "      <td>416.666667</td>\n",
       "      <td>700</td>\n",
       "    </tr>\n",
       "    <tr>\n",
       "      <th>3</th>\n",
       "      <td>Gurgaon</td>\n",
       "      <td>1</td>\n",
       "      <td>2.7</td>\n",
       "      <td>80</td>\n",
       "      <td>755.511551</td>\n",
       "      <td>800</td>\n",
       "    </tr>\n",
       "    <tr>\n",
       "      <th>4</th>\n",
       "      <td>Gurgaon</td>\n",
       "      <td>1</td>\n",
       "      <td>4.3</td>\n",
       "      <td>1887</td>\n",
       "      <td>755.511551</td>\n",
       "      <td>2000</td>\n",
       "    </tr>\n",
       "  </tbody>\n",
       "</table>\n",
       "</div>"
      ],
      "text/plain": [
       "        City  Has Table booking  Aggregate rating  Votes     cuisine  cost\n",
       "0    Gurgaon                  0               3.4     16  416.666667   350\n",
       "1  New Delhi                  0               0.0      0  416.666667   200\n",
       "2  New Delhi                  0               4.1     92  416.666667   700\n",
       "3    Gurgaon                  1               2.7     80  755.511551   800\n",
       "4    Gurgaon                  1               4.3   1887  755.511551  2000"
      ]
     },
     "execution_count": 133,
     "metadata": {},
     "output_type": "execute_result"
    }
   ],
   "source": [
    "new_data.head()"
   ]
  },
  {
   "cell_type": "code",
   "execution_count": 134,
   "metadata": {},
   "outputs": [
    {
     "data": {
      "text/plain": [
       "array([['Gurgaon', 0, 3.4, 16, 416.6666666666667],\n",
       "       ['New Delhi', 0, 0.0, 0, 416.6666666666667],\n",
       "       ['New Delhi', 0, 4.1, 92, 416.6666666666667],\n",
       "       ...,\n",
       "       ['Noida', 0, 3.5, 105, 450.0],\n",
       "       ['Noida', 1, 0.0, 0, 1000.0],\n",
       "       ['Noida', 0, 2.0, 161, 450.0]], dtype=object)"
      ]
     },
     "execution_count": 134,
     "metadata": {},
     "output_type": "execute_result"
    }
   ],
   "source": [
    "X=new_data.iloc[:,:-1].values\n",
    "X"
   ]
  },
  {
   "cell_type": "code",
   "execution_count": 135,
   "metadata": {},
   "outputs": [
    {
     "data": {
      "text/plain": [
       "array([ 350,  200,  700, ...,  450, 1000,  450], dtype=int64)"
      ]
     },
     "execution_count": 135,
     "metadata": {},
     "output_type": "execute_result"
    }
   ],
   "source": [
    "y=new_data.iloc[:,-1].values\n",
    "y"
   ]
  },
  {
   "cell_type": "code",
   "execution_count": 136,
   "metadata": {},
   "outputs": [],
   "source": [
    "from sklearn.preprocessing import LabelEncoder\n",
    "encoder=LabelEncoder()"
   ]
  },
  {
   "cell_type": "code",
   "execution_count": 137,
   "metadata": {},
   "outputs": [
    {
     "data": {
      "text/plain": [
       "array([[0, 0, 3.4, 16, 416.6666666666667],\n",
       "       [1, 0, 0.0, 0, 416.6666666666667],\n",
       "       [1, 0, 4.1, 92, 416.6666666666667],\n",
       "       ...,\n",
       "       [2, 0, 3.5, 105, 450.0],\n",
       "       [2, 1, 0.0, 0, 1000.0],\n",
       "       [2, 0, 2.0, 161, 450.0]], dtype=object)"
      ]
     },
     "execution_count": 137,
     "metadata": {},
     "output_type": "execute_result"
    }
   ],
   "source": [
    "X[:, 0]=encoder.fit_transform(X[:, 0])\n",
    "X"
   ]
  },
  {
   "cell_type": "code",
   "execution_count": 138,
   "metadata": {},
   "outputs": [
    {
     "data": {
      "text/plain": [
       "(7671, 5)"
      ]
     },
     "execution_count": 138,
     "metadata": {},
     "output_type": "execute_result"
    }
   ],
   "source": [
    "X.shape"
   ]
  },
  {
   "cell_type": "code",
   "execution_count": 139,
   "metadata": {},
   "outputs": [
    {
     "data": {
      "text/plain": [
       "(7671, 7)"
      ]
     },
     "execution_count": 139,
     "metadata": {},
     "output_type": "execute_result"
    }
   ],
   "source": [
    "from sklearn.preprocessing import OneHotEncoder\n",
    "from sklearn.compose import ColumnTransformer\n",
    "onecoder = ColumnTransformer([(\"encoder\", OneHotEncoder(), [0])], remainder = 'passthrough')\n",
    "X=onecoder.fit_transform(X)\n",
    "\n",
    "X.shape\n"
   ]
  },
  {
   "cell_type": "code",
   "execution_count": 140,
   "metadata": {},
   "outputs": [
    {
     "data": {
      "text/plain": [
       "(7671, 6)"
      ]
     },
     "execution_count": 140,
     "metadata": {},
     "output_type": "execute_result"
    }
   ],
   "source": [
    "X=X[:,1:]\n",
    "X.shape"
   ]
  },
  {
   "cell_type": "code",
   "execution_count": 141,
   "metadata": {},
   "outputs": [],
   "source": [
    "from sklearn.model_selection import train_test_split\n",
    "X_train,X_test,y_train,y_test=train_test_split(X,y,test_size=0.2,random_state=9)"
   ]
  },
  {
   "cell_type": "code",
   "execution_count": 142,
   "metadata": {},
   "outputs": [],
   "source": [
    "from sklearn.linear_model import LinearRegression\n",
    "regressor=LinearRegression()"
   ]
  },
  {
   "cell_type": "code",
   "execution_count": 143,
   "metadata": {},
   "outputs": [
    {
     "data": {
      "text/plain": [
       "LinearRegression(copy_X=True, fit_intercept=True, n_jobs=None, normalize=False)"
      ]
     },
     "execution_count": 143,
     "metadata": {},
     "output_type": "execute_result"
    }
   ],
   "source": [
    "regressor.fit(X_train,y_train)"
   ]
  },
  {
   "cell_type": "code",
   "execution_count": 144,
   "metadata": {},
   "outputs": [],
   "source": [
    "y_pred=regressor.predict(X_test)"
   ]
  },
  {
   "cell_type": "code",
   "execution_count": 145,
   "metadata": {},
   "outputs": [
    {
     "data": {
      "text/plain": [
       "0.7189272138600126"
      ]
     },
     "execution_count": 145,
     "metadata": {},
     "output_type": "execute_result"
    }
   ],
   "source": [
    "from sklearn.metrics import r2_score\n",
    "r2_score(y_test,y_pred)"
   ]
  },
  {
   "cell_type": "code",
   "execution_count": null,
   "metadata": {},
   "outputs": [],
   "source": []
  }
 ],
 "metadata": {
  "kernelspec": {
   "display_name": "Python 3",
   "language": "python",
   "name": "python3"
  },
  "language_info": {
   "codemirror_mode": {
    "name": "ipython",
    "version": 3
   },
   "file_extension": ".py",
   "mimetype": "text/x-python",
   "name": "python",
   "nbconvert_exporter": "python",
   "pygments_lexer": "ipython3",
   "version": "3.7.6"
  }
 },
 "nbformat": 4,
 "nbformat_minor": 4
}
